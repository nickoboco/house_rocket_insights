{
 "cells": [
  {
   "cell_type": "code",
   "execution_count": 1,
   "id": "29df6afc",
   "metadata": {
    "ExecuteTime": {
     "end_time": "2022-11-18T18:11:55.816078Z",
     "start_time": "2022-11-18T18:11:55.798015Z"
    }
   },
   "outputs": [],
   "source": [
    "#importing packages\n",
    "import pandas as pd\n",
    "import numpy as np\n",
    "from matplotlib import pyplot as plt\n",
    "\n",
    "pd.set_option('display.float_format', lambda x: '%.2f' % x)\n",
    "pd.options.mode.chained_assignment = None"
   ]
  },
  {
   "cell_type": "code",
   "execution_count": 2,
   "id": "f171ff7c",
   "metadata": {
    "ExecuteTime": {
     "end_time": "2022-11-18T20:42:21.447872Z",
     "start_time": "2022-11-18T20:42:21.396185Z"
    }
   },
   "outputs": [],
   "source": [
    "#reading data\n",
    "data = pd.read_csv('./datasets/kc_house_data.csv')\n",
    "\n",
    "#formatting date\n",
    "data['date'] = pd.to_datetime(data['date'], format='%Y-%m-%d')"
   ]
  },
  {
   "cell_type": "markdown",
   "id": "4f2b70f5",
   "metadata": {},
   "source": [
    "### First question"
   ]
  },
  {
   "cell_type": "code",
   "execution_count": 24,
   "id": "e8c60029",
   "metadata": {
    "ExecuteTime": {
     "end_time": "2022-11-18T10:13:16.061778Z",
     "start_time": "2022-11-18T10:13:16.045849Z"
    }
   },
   "outputs": [],
   "source": [
    "#grouping by median per zipcode\n",
    "df1 = data[['price', 'zipcode']].groupby('zipcode').median().reset_index()"
   ]
  },
  {
   "cell_type": "code",
   "execution_count": 25,
   "id": "ea395820",
   "metadata": {
    "ExecuteTime": {
     "end_time": "2022-11-18T10:13:16.262874Z",
     "start_time": "2022-11-18T10:13:16.237513Z"
    }
   },
   "outputs": [],
   "source": [
    "#merging result\n",
    "data1 = pd.merge(data, df1, on='zipcode', how='inner')[['id', 'zipcode', 'price_x', 'price_y', 'condition']]"
   ]
  },
  {
   "cell_type": "code",
   "execution_count": 26,
   "id": "1b29e05d",
   "metadata": {
    "ExecuteTime": {
     "end_time": "2022-11-18T10:13:18.179068Z",
     "start_time": "2022-11-18T10:13:16.414080Z"
    }
   },
   "outputs": [],
   "source": [
    "#recommendation\n",
    "data1['recommendation'] = np.nan\n",
    "\n",
    "for i in range(len(data1)):\n",
    "    if (data1.loc[i, 'price_x'] <= data1.loc[i, 'price_y']) & (data1.loc [i, 'condition'] >= 4):\n",
    "        data1.loc[i, 'recommendation'] = 'buy'\n",
    "    else:\n",
    "        data1.loc[i, 'recommendation'] = 'dont buy'"
   ]
  },
  {
   "cell_type": "code",
   "execution_count": 27,
   "id": "348585ee",
   "metadata": {},
   "outputs": [],
   "source": [
    "#filtering data\n",
    "data1 = data1[data1['recommendation'] == 'buy'].reset_index(drop=True)"
   ]
  },
  {
   "cell_type": "code",
   "execution_count": 30,
   "id": "ed9f0442",
   "metadata": {
    "ExecuteTime": {
     "end_time": "2022-11-18T10:13:20.991920Z",
     "start_time": "2022-11-18T10:13:18.180066Z"
    }
   },
   "outputs": [],
   "source": [
    "#formatting price\n",
    "for i in range(len(data1)):\n",
    "    data1.loc[i, 'price_x'] = \"${:0,.2f}\".format(data1.loc[i, 'price_x'])\n",
    "    data1.loc[i, 'price_y'] = \"${:0,.2f}\".format(data1.loc[i, 'price_y'])"
   ]
  },
  {
   "cell_type": "code",
   "execution_count": 46,
   "id": "912347a9",
   "metadata": {
    "ExecuteTime": {
     "end_time": "2022-11-18T10:13:22.550912Z",
     "start_time": "2022-11-18T10:13:20.992858Z"
    }
   },
   "outputs": [],
   "source": [
    "#formatting condition\n",
    "for i in range(len(data1)):\n",
    "    if data1.loc[i, 'condition'] <= 1:\n",
    "        data1.loc[i, 'condition'] = 'bad'\n",
    "    elif data1.loc[i, 'condition'] <=3:\n",
    "        data1.loc[i, 'condition'] = 'regular'\n",
    "    elif data1.loc[i, 'condition'] <=4:\n",
    "        data1.loc[i, 'condition'] = 'good'\n",
    "    else:\n",
    "        data1.loc[i, 'condition'] = 'great'"
   ]
  },
  {
   "cell_type": "code",
   "execution_count": 47,
   "id": "36d26926",
   "metadata": {
    "ExecuteTime": {
     "end_time": "2022-11-18T10:13:22.566089Z",
     "start_time": "2022-11-18T10:13:22.551825Z"
    }
   },
   "outputs": [],
   "source": [
    "#renaming columns\n",
    "data1.columns = ['ID', 'Zip Code', 'Price', 'Price Median Zipcode', 'Condition', 'Recommendation']"
   ]
  },
  {
   "cell_type": "code",
   "execution_count": 10,
   "id": "15a8ebd2",
   "metadata": {
    "ExecuteTime": {
     "end_time": "2022-11-18T10:13:22.627987Z",
     "start_time": "2022-11-18T10:13:22.566611Z"
    },
    "scrolled": false
   },
   "outputs": [],
   "source": [
    "#saving dataframe to csv\n",
    "data1_report = data1\n",
    "data1_report.to_csv('Recommendation_Report_Buy.csv', index=False)"
   ]
  },
  {
   "cell_type": "markdown",
   "id": "5a1f566a",
   "metadata": {
    "heading_collapsed": true
   },
   "source": [
    "### Second question"
   ]
  },
  {
   "cell_type": "code",
   "execution_count": 65,
   "id": "b20b9dfa",
   "metadata": {
    "ExecuteTime": {
     "end_time": "2022-11-18T17:19:41.959896Z",
     "start_time": "2022-11-18T17:19:41.821978Z"
    },
    "hidden": true
   },
   "outputs": [],
   "source": [
    "#extracting month\n",
    "data['month'] = pd.to_datetime(data['date']).dt.strftime('%m').astype(np.int64)\n",
    "#creating column season\n",
    "data['season'] = data['month'].apply(lambda x: 'summer' if (x >= 6) & (x <= 8)\n",
    "                                     else 'autumn' if (x >= 9) & (x <= 11)\n",
    "                                     else 'spring' if (x >= 3) & (x <= 5)\n",
    "                                     else 'winter')"
   ]
  },
  {
   "cell_type": "code",
   "execution_count": 66,
   "id": "ef862851",
   "metadata": {
    "ExecuteTime": {
     "end_time": "2022-11-18T10:13:22.783779Z",
     "start_time": "2022-11-18T10:13:22.768889Z"
    },
    "hidden": true
   },
   "outputs": [],
   "source": [
    "#grouping by median per zipcode and season\n",
    "df2 = data[['price', 'zipcode', 'season']].groupby(['zipcode', 'season']).median().reset_index()"
   ]
  },
  {
   "cell_type": "code",
   "execution_count": 67,
   "id": "ea3b9783",
   "metadata": {
    "ExecuteTime": {
     "end_time": "2022-11-18T10:13:22.799020Z",
     "start_time": "2022-11-18T10:13:22.784771Z"
    },
    "hidden": true
   },
   "outputs": [],
   "source": [
    "#merging result\n",
    "df3 = pd.merge(data, df2, on=['zipcode', 'season'], how='inner')[['id', 'zipcode','season', 'price_y', 'price_x', 'condition']]"
   ]
  },
  {
   "cell_type": "code",
   "execution_count": 68,
   "id": "86380fe2",
   "metadata": {},
   "outputs": [],
   "source": [
    "#formatting condition\n",
    "for i in range(len(df3)):\n",
    "    if (df3.loc[i, 'price_x'] <= df3.loc[i, 'price_y']) & (df3.loc [i, 'condition'] >= 5):\n",
    "        df3.loc[i, 'recommendation'] = 'buy'\n",
    "    else:\n",
    "        df3.loc[i, 'recommendation'] = 'dont buy'"
   ]
  },
  {
   "cell_type": "code",
   "execution_count": 69,
   "id": "dc9903f5",
   "metadata": {},
   "outputs": [],
   "source": [
    "#filtering data\n",
    "df3 = df3[df3['recommendation'] == 'buy'].reset_index(drop=True)"
   ]
  },
  {
   "cell_type": "code",
   "execution_count": 70,
   "id": "42fe6081",
   "metadata": {},
   "outputs": [],
   "source": [
    "#formatting condition\n",
    "for i in range(len(df3)):\n",
    "    if df3.loc[i, 'condition'] <= 1:\n",
    "        df3.loc[i, 'condition'] = 'bad'\n",
    "    elif df3.loc[i, 'condition'] <=3:\n",
    "        df3.loc[i, 'condition'] = 'regular'\n",
    "    elif df3.loc[i, 'condition'] <=4:\n",
    "        df3.loc[i, 'condition'] = 'good'    \n",
    "    else:\n",
    "        df3.loc[i, 'condition'] = 'great'"
   ]
  },
  {
   "cell_type": "code",
   "execution_count": 71,
   "id": "73662ee0",
   "metadata": {
    "ExecuteTime": {
     "end_time": "2022-11-18T10:13:31.863992Z",
     "start_time": "2022-11-18T10:13:22.800016Z"
    },
    "hidden": true
   },
   "outputs": [],
   "source": [
    "#creating columns sell price and profit\n",
    "df3['sell_price'] = np.nan\n",
    "df3['profit'] = np.nan\n",
    "#filling sell price column\n",
    "for i in range(len(df3)):\n",
    "    df3.loc[i, 'sell_price'] = df3.loc[i, 'price_x'] * 1.3\n",
    "#filling profit column\n",
    "for i in range(len(df3)):\n",
    "    df3.loc[i, 'profit'] = df3.loc[i, 'sell_price'] - df3.loc[i, 'price_x']"
   ]
  },
  {
   "cell_type": "code",
   "execution_count": 75,
   "id": "18e462af",
   "metadata": {},
   "outputs": [],
   "source": [
    "#filtering data\n",
    "df3 = df3[df3['sell_price'] <= df3['price_y']].reset_index(drop=True)"
   ]
  },
  {
   "cell_type": "code",
   "execution_count": 79,
   "id": "09d6c475",
   "metadata": {
    "ExecuteTime": {
     "end_time": "2022-11-18T10:13:31.879538Z",
     "start_time": "2022-11-18T10:13:31.866074Z"
    },
    "hidden": true
   },
   "outputs": [],
   "source": [
    "#renaming columns\n",
    "df3.columns = ['ID', 'Zip Code', 'Season', 'Avg Price', 'Buy Price', 'Condition', 'Recommendation', 'Sell Price', 'Profit']"
   ]
  },
  {
   "cell_type": "code",
   "execution_count": 16,
   "id": "bcb30b6e",
   "metadata": {
    "ExecuteTime": {
     "end_time": "2022-11-18T10:13:32.003689Z",
     "start_time": "2022-11-18T10:13:31.880536Z"
    },
    "hidden": true
   },
   "outputs": [],
   "source": [
    "#saving dataset to csv\n",
    "df3_report = df3\n",
    "df3_report.to_csv('Recommendation_Report_Sell.csv', index=False)"
   ]
  },
  {
   "cell_type": "markdown",
   "id": "46f1ab57",
   "metadata": {},
   "source": [
    "### Pergunta 3"
   ]
  },
  {
   "cell_type": "code",
   "execution_count": 83,
   "id": "8f81f1fb",
   "metadata": {},
   "outputs": [],
   "source": [
    "#creating new dataframe\n",
    "data3 = df3.copy()"
   ]
  },
  {
   "cell_type": "code",
   "execution_count": 86,
   "id": "c93901ba",
   "metadata": {},
   "outputs": [],
   "source": [
    "#creating new feature\n",
    "data3 = data3.assign(Dif_Avg_Sell = lambda x: (x['Avg Price'] - x['Sell Price']))"
   ]
  },
  {
   "cell_type": "code",
   "execution_count": 102,
   "id": "3c25c980",
   "metadata": {},
   "outputs": [],
   "source": [
    "#summing total investment and profit\n",
    "invest = data3['Buy Price'].sum()\n",
    "profit = data3['Profit'].sum()"
   ]
  },
  {
   "cell_type": "code",
   "execution_count": 106,
   "id": "ffd93c99",
   "metadata": {},
   "outputs": [],
   "source": [
    "#creating new dataframe grouped by zip code and season / count\n",
    "data3count = data3[['ID', 'Zip Code', 'Season']].groupby(['Zip Code', 'Season']).count().reset_index()"
   ]
  },
  {
   "cell_type": "code",
   "execution_count": 107,
   "id": "1eff88ed",
   "metadata": {},
   "outputs": [],
   "source": [
    "#creating new dataframe grouped by zip code and season / sum\n",
    "data3sum = data3[['Profit', 'Season', 'Zip Code']].groupby(['Zip Code', 'Season']).sum().reset_index()"
   ]
  },
  {
   "cell_type": "code",
   "execution_count": 109,
   "id": "a2c2e7ea",
   "metadata": {},
   "outputs": [],
   "source": [
    "#merging two dataframes\n",
    "data3 = pd.merge(data3count, data3sum, on=['Zip Code', 'Season'], how='inner')"
   ]
  },
  {
   "cell_type": "code",
   "execution_count": 112,
   "id": "063d1adb",
   "metadata": {},
   "outputs": [],
   "source": [
    "#renaming columns\n",
    "data3.columns = ['Zip Code', 'Season', 'Houses', 'Total Profit']"
   ]
  },
  {
   "cell_type": "markdown",
   "id": "46f1ab57",
   "metadata": {},
   "source": [
    "### Hypothesis"
   ]
  },
  {
   "cell_type": "markdown",
   "id": "f96bc033",
   "metadata": {
    "heading_collapsed": true
   },
   "source": [
    "##### H1 - Waterfront houses are in average 30% more expensive than others"
   ]
  },
  {
   "cell_type": "code",
   "execution_count": 4,
   "id": "6dfd2ecb",
   "metadata": {
    "ExecuteTime": {
     "end_time": "2022-11-18T10:13:32.019349Z",
     "start_time": "2022-11-18T10:13:32.004702Z"
    },
    "hidden": true,
    "scrolled": false
   },
   "outputs": [
    {
     "name": "stdout",
     "output_type": "stream",
     "text": [
      "Hipótese validada! Casas com vista para água são em média 213% mais caras que as outras.\n"
     ]
    }
   ],
   "source": [
    "#creating new dataframe\n",
    "dfh1 = data[['id', 'price', 'waterfront']]\n",
    "\n",
    "#calculating mean\n",
    "mean_price = dfh1[dfh1['waterfront'] == 0]['price'].mean()\n",
    "mean_price_wf = dfh1[dfh1['waterfront'] == 1]['price'].mean()\n",
    "\n",
    "#calculating difference \n",
    "dif_wf_notwf = (mean_price_wf - mean_price)/mean_price\n",
    "dif_wf_perc = \"{:.0%}\".format(dif_wf_notwf)\n",
    "\n",
    "#printing result\n",
    "if dif_wf_notwf > 0.3:\n",
    "    print('Hipótese validada! Casas com vista para água são em média {} mais caras que as outras.'.format(dif_wf_perc))\n",
    "else:\n",
    "    print('Hipótese invalidada! A diferença média de preço é de {}.'.format(dif_wf_perc))"
   ]
  },
  {
   "cell_type": "markdown",
   "id": "3ae76d28",
   "metadata": {
    "heading_collapsed": true
   },
   "source": [
    "##### H2 - Houses built before 1955 are in average 50% cheaper than the ones built after 1955"
   ]
  },
  {
   "cell_type": "code",
   "execution_count": 139,
   "id": "e8b716c5",
   "metadata": {
    "ExecuteTime": {
     "end_time": "2022-11-18T10:13:32.035042Z",
     "start_time": "2022-11-18T10:13:32.020346Z"
    },
    "hidden": true
   },
   "outputs": [
    {
     "name": "stdout",
     "output_type": "stream",
     "text": [
      "Hipótese invalidada! A diferença média de preço é de -1%.\n"
     ]
    }
   ],
   "source": [
    "#creating new dataset\n",
    "dfh2 = data[['id', 'price', 'yr_built']]\n",
    "\n",
    "#calculating mean\n",
    "mean_price = dfh2['price'].mean()\n",
    "mean_price_1955back = dfh2[dfh2['yr_built'] < 1955]['price'].mean()\n",
    "\n",
    "#calculating difference \n",
    "dif_1955_forw = (mean_price_1955back - mean_price)/mean_price\n",
    "dif_1955_perc = \"{:.0%}\".format(dif_1955_forw)\n",
    "\n",
    "#printing result\n",
    "if dif_1955_forw <= -0.5:\n",
    "    print('Hipótese validada! Casas contruídas antes de 1955 são em média {} mais baratas que as demais.'.format(dif_1955_perc))\n",
    "else:\n",
    "    print('Hipótese invalidada! A diferença média de preço é de {}.'.format(dif_1955_perc))\n"
   ]
  },
  {
   "cell_type": "markdown",
   "id": "c128f592",
   "metadata": {
    "heading_collapsed": true
   },
   "source": [
    "##### H3 - Houses with basement are in average 40% bigger than others"
   ]
  },
  {
   "cell_type": "code",
   "execution_count": 140,
   "id": "7b3a87da",
   "metadata": {
    "ExecuteTime": {
     "end_time": "2022-11-18T10:27:27.865909Z",
     "start_time": "2022-11-18T10:27:27.854781Z"
    },
    "hidden": true
   },
   "outputs": [
    {
     "name": "stdout",
     "output_type": "stream",
     "text": [
      "Hipótese invalidada! A diferença média de tamanho é de -18%.\n"
     ]
    }
   ],
   "source": [
    "#creating new dataframe\n",
    "dfh3 = data[['id', 'sqft_lot', 'sqft_basement']]\n",
    "\n",
    "##calculating mean\n",
    "mean_size_withbasement = dfh3[dfh3['sqft_basement'] != 0]['sqft_lot'].mean()\n",
    "mean_size_nobasement = dfh3[dfh3['sqft_basement'] == 0]['sqft_lot'].mean()\n",
    "\n",
    "#calculating difference \n",
    "dif_size = (mean_size_withbasement-mean_size_nobasement)/mean_size_nobasement\n",
    "dif_size_perc = \"{:.0%}\".format(dif_size)\n",
    "\n",
    "#printing answer\n",
    "if dif_size > 0.4:\n",
    "    print('Hipótese validada! Casas sem porão são em média {} maiores que as demais.'.format(dif_size_perc))\n",
    "else:\n",
    "    print('Hipótese invalidada! A diferença média de tamanho é de {}.'.format(dif_size_perc))"
   ]
  },
  {
   "cell_type": "markdown",
   "id": "53c3a8dd",
   "metadata": {
    "heading_collapsed": true
   },
   "source": [
    "##### H4 - House prices grew up 10% YoY"
   ]
  },
  {
   "cell_type": "code",
   "execution_count": 12,
   "id": "31f9ffa7",
   "metadata": {
    "ExecuteTime": {
     "end_time": "2022-11-18T11:48:31.828911Z",
     "start_time": "2022-11-18T11:48:31.694914Z"
    },
    "hidden": true
   },
   "outputs": [
    {
     "name": "stdout",
     "output_type": "stream",
     "text": [
      "Hipótese invalidada! Cresimento médio de 1% YoY\n"
     ]
    }
   ],
   "source": [
    "#creating filtered dataset\n",
    "dfh4 = data[['id', 'price', 'date']]\n",
    "dfh4['year'] = dfh4['date'].dt.year\n",
    "\n",
    "#mean price by year\n",
    "price_by_year = dfh4[['price', 'year']].groupby('year').mean().reset_index()\n",
    "\n",
    "#calculating difference\n",
    "price_dif = (price_by_year.iloc[1,1] - price_by_year.iloc[0,1])/price_by_year.iloc[0,1]\n",
    "price_dif_per = \"{:.0%}\".format(price_dif)\n",
    "\n",
    "#printing result\n",
    "if price_dif > 0.1:\n",
    "    print('Hipótese validada! Cresimento médio de {} YoY'.format(price_dif_per))\n",
    "else:\n",
    "    print('Hipótese invalidada! Cresimento médio de {} YoY'.format(price_dif_per))"
   ]
  },
  {
   "cell_type": "markdown",
   "id": "c893640c",
   "metadata": {
    "heading_collapsed": true
   },
   "source": [
    "##### H5 - 3 bathrooms houses grew up price in average 15% MoM "
   ]
  },
  {
   "cell_type": "code",
   "execution_count": 15,
   "id": "b8f6f596",
   "metadata": {
    "ExecuteTime": {
     "end_time": "2022-11-18T11:49:59.828225Z",
     "start_time": "2022-11-18T11:49:59.453832Z"
    },
    "hidden": true
   },
   "outputs": [
    {
     "name": "stdout",
     "output_type": "stream",
     "text": [
      "Hipótese invalidada! Cresimento médio de 0.23% MoM na média.\n"
     ]
    }
   ],
   "source": [
    "#creating filtered dataframe\n",
    "dfh5 = data[data['bathrooms'] == 3][['id', 'date', 'price']].reset_index(drop=True)\n",
    "dfh5['year_month'] = dfh5['date'].dt.strftime('%Y-%m')\n",
    "\n",
    "#mean price by year/month\n",
    "price_by_year_month = dfh5[['price', 'year_month']].groupby('year_month').mean().reset_index()\n",
    "\n",
    "#calculanting difference\n",
    "price_by_year_month['price_dif'] = price_by_year_month.price.diff()\n",
    "price_by_year_month['price_dif_percent'] = price_by_year_month['price'].pct_change()\n",
    "price_by_year_month['price_dif_perc'] = price_by_year_month['price'].pct_change().apply(lambda x: \"{:.2%}\".format(x))\n",
    "\n",
    "#calculating mean difference\n",
    "mean_dif = price_by_year_month['price_dif_percent'].mean()\n",
    "mean_dif_perc = \"{:.2%}\".format(price_by_year_month['price_dif_percent'].mean())\n",
    "\n",
    "#printing result\n",
    "if mean_dif > 0.15:\n",
    "    print('Hipótese validada! Cresimento médio de {} MoM'.format(mean_dif_perc))\n",
    "else:\n",
    "    print('Hipótese invalidada! Cresimento médio de {} MoM na média.'.format(mean_dif_perc))"
   ]
  },
  {
   "cell_type": "code",
   "execution_count": 16,
   "id": "8ffe119a",
   "metadata": {},
   "outputs": [
    {
     "data": {
      "text/plain": [
       "id                     int64\n",
       "date          datetime64[ns]\n",
       "price                float64\n",
       "year_month            object\n",
       "dtype: object"
      ]
     },
     "execution_count": 16,
     "metadata": {},
     "output_type": "execute_result"
    }
   ],
   "source": [
    "dfh5.dtypes"
   ]
  },
  {
   "cell_type": "markdown",
   "id": "9c55d684",
   "metadata": {
    "heading_collapsed": true
   },
   "source": [
    "##### H6 - Renovated houses are in average 15% more expansive than others"
   ]
  },
  {
   "cell_type": "code",
   "execution_count": 143,
   "id": "43fd0cdd",
   "metadata": {
    "ExecuteTime": {
     "end_time": "2022-11-18T17:19:10.544606Z",
     "start_time": "2022-11-18T17:19:10.526581Z"
    },
    "hidden": true
   },
   "outputs": [
    {
     "name": "stdout",
     "output_type": "stream",
     "text": [
      "Hipótese validada! Casas reformadas são em média 30.25% mais caras que outras.\n"
     ]
    }
   ],
   "source": [
    "#creating filtered dataset\n",
    "dfh6 = data[['id', 'price', 'yr_renovated']]\n",
    "\n",
    "#mean price\n",
    "mean_price_renov = dfh6[dfh6['yr_renovated'] == 0]['price'].mean()\n",
    "mean_price_notrenov = dfh6[dfh6['yr_renovated'] != 0]['price'].mean()\n",
    "\n",
    "#calculating difference\n",
    "mean_price_dif = (mean_price_notrenov - mean_price_renov)/mean_price_notrenov\n",
    "mean_price_dif_perc = \"{:.2%}\".format(mean_price_dif)\n",
    "\n",
    "#printing result\n",
    "if mean_price_dif >= 0.15:\n",
    "    print('Hipótese validada! Casas reformadas são em média {} mais caras que outras.'.format(mean_price_dif_perc))\n",
    "else:\n",
    "    print('Hipótese invalidada! Diferença é de {}'.format(mean_price_dif_perc))"
   ]
  },
  {
   "cell_type": "markdown",
   "id": "61b7bf33",
   "metadata": {
    "heading_collapsed": true
   },
   "source": [
    "##### H7 - Waterfront houses are in average 10% more expansive in summer"
   ]
  },
  {
   "cell_type": "code",
   "execution_count": 8,
   "id": "73968441",
   "metadata": {
    "ExecuteTime": {
     "end_time": "2022-11-18T17:29:28.934262Z",
     "start_time": "2022-11-18T17:29:28.918915Z"
    },
    "hidden": true
   },
   "outputs": [
    {
     "name": "stdout",
     "output_type": "stream",
     "text": [
      "Hipótese validada! Diferença de 14.26%.\n"
     ]
    }
   ],
   "source": [
    "datadfh7 = data.copy()\n",
    "\n",
    "#extracting month\n",
    "datadfh7['month'] = pd.to_datetime(datadfh7['date']).dt.strftime('%m').astype(np.int64)\n",
    "#creating column season\n",
    "datadfh7['season'] = datadfh7['month'].apply(lambda x: 'summer' if (x >= 6) & (x <= 8)\n",
    "                                    else 'autumn' if (x >= 9) & (x <= 11)\n",
    "                                    else 'spring' if (x >= 3) & (x <= 5)\n",
    "                                    else 'winter')\n",
    "\n",
    "#creating filtered dataframe\n",
    "dfh7 = datadfh7[datadfh7['waterfront'] == 1][['id', 'price', 'waterfront', 'season']]\n",
    "\n",
    "#mean price\n",
    "mean_price_summer = dfh7[dfh7['season'] == 'summer']['price'].mean()\n",
    "mean_price_not_summer = dfh7[dfh7['season'] != 'summer']['price'].mean()\n",
    "\n",
    "#calculating difference\n",
    "price_dif = (mean_price_summer-mean_price_not_summer)/mean_price_not_summer\n",
    "price_dif_perc = '{:.2%}'.format(price_dif)\n",
    "\n",
    "#printing result\n",
    "if price_dif >= 0.1:\n",
    "    print('Hipótese validada! Diferença de {}.'.format(price_dif_perc))\n",
    "else:\n",
    "    print('Hipótese invalidada! Diferença é de  {}.'.format(price_dif_perc))"
   ]
  },
  {
   "cell_type": "markdown",
   "id": "963a28d3",
   "metadata": {
    "heading_collapsed": true
   },
   "source": [
    "##### H8 - Houses with more than one floor are in average 30% more expansive than others"
   ]
  },
  {
   "cell_type": "code",
   "execution_count": 145,
   "id": "a51cc2ce",
   "metadata": {
    "ExecuteTime": {
     "end_time": "2022-11-18T17:39:50.094143Z",
     "start_time": "2022-11-18T17:39:50.085269Z"
    },
    "hidden": true
   },
   "outputs": [
    {
     "name": "stdout",
     "output_type": "stream",
     "text": [
      "Hipótese validada! Diferença de 30.45%.\n"
     ]
    }
   ],
   "source": [
    "#creating filtered dataset\n",
    "dfh8 = data[['id', 'price', 'floors']]\n",
    "\n",
    "#mean price\n",
    "mean_price_notonefloor = dfh8[dfh8['floors'] > 1]['price'].mean()\n",
    "mean_price_onefloor = dfh8[dfh8['floors'] <= 1]['price'].mean()\n",
    "\n",
    "#calculating difference\n",
    "dif_price_floor = (mean_price_notonefloor-mean_price_onefloor)/mean_price_notonefloor\n",
    "dif_price_floor_per = '{:.2%}'.format(dif_price_floor)\n",
    "\n",
    "#printing result\n",
    "if dif_price_floor >0.3:\n",
    "    print('Hipótese validada! Diferença de {}.'.format(dif_price_floor_per))\n",
    "else:\n",
    "    print('Hipótese invalidada! Diferença é de {}.'.format(dif_price_floor_per))"
   ]
  },
  {
   "cell_type": "markdown",
   "id": "5131a83a",
   "metadata": {
    "heading_collapsed": true
   },
   "source": [
    "##### H9 - More than 70% of houses built after than the year 2000 are in average 30% smaller than the ones built before 2000"
   ]
  },
  {
   "cell_type": "code",
   "execution_count": 146,
   "id": "87eafb99",
   "metadata": {
    "ExecuteTime": {
     "end_time": "2022-11-18T17:46:14.417716Z",
     "start_time": "2022-11-18T17:46:14.413725Z"
    },
    "hidden": true
   },
   "outputs": [],
   "source": [
    "#converting sqft to sqmt\n",
    "def sqft_to_sqmt (x):\n",
    "    return x * 0.09290304"
   ]
  },
  {
   "cell_type": "code",
   "execution_count": 147,
   "id": "4425e2ec",
   "metadata": {
    "ExecuteTime": {
     "end_time": "2022-11-18T18:32:27.846030Z",
     "start_time": "2022-11-18T18:32:27.453336Z"
    },
    "hidden": true
   },
   "outputs": [
    {
     "name": "stdout",
     "output_type": "stream",
     "text": [
      "Hipótese validada! 94.35% das casas construídas depois dos anos 2000 são pelo menos 30% menores que as demais\n"
     ]
    }
   ],
   "source": [
    "#creating filtered dataframe\n",
    "dfh9 = data[['id', 'sqft_lot', 'yr_built']]\n",
    "dfh9new = dfh9\n",
    "\n",
    "#mean size\n",
    "mean_sqmt_before2k = sqft_to_sqmt(dfh9[dfh9['yr_built'] < 2000]['sqft_lot'].mean())\n",
    "mean_sqmt_after2k = sqft_to_sqmt(dfh9[dfh9['yr_built'] >= 2000]['sqft_lot'].mean())\n",
    "\n",
    "dfh9after2k = dfh9[dfh9['yr_built'] >= 2000].reset_index(drop=True)\n",
    "dfh9after2k['sqmt_before2k'] = mean_sqmt_before2k\n",
    "dfh9after2k['sqmt_after2k'] = dfh9after2k['sqft_lot'].apply(lambda x: (sqft_to_sqmt(x)))\n",
    "\n",
    "dfh9after2k['dif_sqmt'] = np.nan\n",
    "for i in range(len(dfh9after2k)):\n",
    "    dfh9after2k.loc[i, 'dif_sqmt'] = (dfh9after2k.loc[i, 'sqmt_before2k']- dfh9after2k.loc[i, 'sqmt_after2k'])/dfh9after2k.loc[i, 'sqmt_before2k']\n",
    "    \n",
    "houses_smaller_mean = dfh9after2k[dfh9after2k['dif_sqmt'] >= -0.3]['id'].count()\n",
    "houses_total = dfh9after2k['id'].count()\n",
    "\n",
    "housessmaller_vs_totalhouses = houses_smaller_mean/houses_total\n",
    "housessmaller_vs_totalhouses_perc = '{:.2%}'.format(housessmaller_vs_totalhouses)\n",
    "\n",
    "#printing result\n",
    "if housessmaller_vs_totalhouses >= 0.7:\n",
    "    print('Hipótese validada! {} das casas construídas depois dos anos 2000 são pelo menos 30% ' \\\n",
    "          'menores que as demais'.format(housessmaller_vs_totalhouses_perc))\n",
    "else:\n",
    "    print('Hipótese invalidada! Somente {} das casas construídas depois dos anos 2000 são pelo menos 30% ' \\\n",
    "          'menores que as demais.'.format(housessmaller_vs_totalhouses_perc))"
   ]
  },
  {
   "cell_type": "markdown",
   "id": "1249abde",
   "metadata": {
    "heading_collapsed": true
   },
   "source": [
    "##### H10 - More than 80% of houses with 4 or more bedrooms and with less than 3 bathrooms are below the region average price"
   ]
  },
  {
   "cell_type": "code",
   "execution_count": 148,
   "id": "b68111be",
   "metadata": {
    "ExecuteTime": {
     "end_time": "2022-11-18T19:06:53.230409Z",
     "start_time": "2022-11-18T19:06:51.485982Z"
    },
    "hidden": true
   },
   "outputs": [
    {
     "name": "stdout",
     "output_type": "stream",
     "text": [
      "Hipótese invalidada! Somente 49.82% dessas casas estão abaixo do preço médio da região.\n"
     ]
    }
   ],
   "source": [
    "#converting sqft to sqmt\n",
    "dfh10 = data[['id', 'price', 'zipcode', 'bedrooms', 'bathrooms']]\n",
    "dfh10pricezipcode = dfh10[['price', 'zipcode']].groupby('zipcode').mean().reset_index()\n",
    "dfh10 = pd.merge(dfh10, dfh10pricezipcode, on='zipcode', how='inner')\n",
    "\n",
    "dfh10['dif_price'] = np.nan\n",
    "\n",
    "for i in range(len(dfh10)):\n",
    "    dfh10.loc[i, 'dif_price'] = (dfh10.loc[i, 'price_x']-\n",
    "                                 dfh10.loc[i, 'price_y'])/dfh10.loc[i, 'price_y']\n",
    "\n",
    "dfh10new = dfh10[(dfh10['bedrooms'] >= 4)&(dfh10['bathrooms'] < 3)]\n",
    "housesbelowmean = dfh10new[dfh10new['dif_price'] < 0]['id'].count()\n",
    "housestotal = dfh10new['id'].count()\n",
    "\n",
    "housesbellow_vs_totalhouses = housesbelowmean/housestotal\n",
    "housesbellow_vs_totalhouses_per = '{:.2%}'.format(housesbellow_vs_totalhouses)\n",
    "\n",
    "#printing result\n",
    "if housesbellow_vs_totalhouses > 0.8:\n",
    "    print ('Hipótese validada! {} dessas casas estão abaixo do preço médio da região.'.format(housesbellow_vs_totalhouses_per))\n",
    "else:\n",
    "    print ('Hipótese invalidada! Somente {} dessas casas estão abaixo do preço médio da região.'.format(housesbellow_vs_totalhouses_per))"
   ]
  }
 ],
 "metadata": {
  "kernelspec": {
   "display_name": "Python 3 (ipykernel)",
   "language": "python",
   "name": "python3"
  },
  "language_info": {
   "codemirror_mode": {
    "name": "ipython",
    "version": 3
   },
   "file_extension": ".py",
   "mimetype": "text/x-python",
   "name": "python",
   "nbconvert_exporter": "python",
   "pygments_lexer": "ipython3",
   "version": "3.9.12"
  },
  "vscode": {
   "interpreter": {
    "hash": "43294edbc0a68b1c45315fa330227c481dc2505fc6c24ab732faf3b786a87473"
   }
  }
 },
 "nbformat": 4,
 "nbformat_minor": 5
}
